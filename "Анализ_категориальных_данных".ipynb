{
  "nbformat": 4,
  "nbformat_minor": 0,
  "metadata": {
    "colab": {
      "name": "Копия блокнота \"Анализ категориальных данных\"",
      "provenance": [],
      "collapsed_sections": [],
      "include_colab_link": true
    },
    "kernelspec": {
      "name": "python3",
      "display_name": "Python 3"
    },
    "language_info": {
      "name": "python"
    }
  },
  "cells": [
    {
      "cell_type": "markdown",
      "metadata": {
        "id": "view-in-github",
        "colab_type": "text"
      },
      "source": [
        "<a href=\"https://colab.research.google.com/github/bronitanker/SkillFactory-study/blob/main/%D0%9A%D0%BE%D0%BF%D0%B8%D1%8F_%D0%B1%D0%BB%D0%BE%D0%BA%D0%BD%D0%BE%D1%82%D0%B0_%22%D0%90%D0%BD%D0%B0%D0%BB%D0%B8%D0%B7_%D0%BA%D0%B0%D1%82%D0%B5%D0%B3%D0%BE%D1%80%D0%B8%D0%B0%D0%BB%D1%8C%D0%BD%D1%8B%D1%85_%D0%B4%D0%B0%D0%BD%D0%BD%D1%8B%D1%85%22.ipynb\" target=\"_parent\"><img src=\"https://colab.research.google.com/assets/colab-badge.svg\" alt=\"Open In Colab\"/></a>"
      ]
    },
    {
      "cell_type": "markdown",
      "source": [
        "# Анализ категориальных данных"
      ],
      "metadata": {
        "id": "gQeTEKAaxK9J"
      }
    },
    {
      "cell_type": "code",
      "execution_count": null,
      "metadata": {
        "id": "sxmAx4jIuapC",
        "colab": {
          "base_uri": "https://localhost:8080/"
        },
        "outputId": "8fb7383a-b912-43c8-dff3-5f32f22b9f5e"
      },
      "outputs": [
        {
          "output_type": "stream",
          "name": "stdout",
          "text": [
            "/usr/local/lib/python3.7/dist-packages/gdown/cli.py:131: FutureWarning: Option `--id` was deprecated in version 4.3.1 and will be removed in 5.0. You don't need to pass it anymore to use a file ID.\n",
            "  category=FutureWarning,\n",
            "Downloading...\n",
            "From: https://drive.google.com/uc?id=18yofdxO2BYBmlw8wmVHEwGFiALR2F4lC\n",
            "To: /content/housing_market_dataset.csv\n",
            "100% 29.3M/29.3M [00:00<00:00, 320MB/s]\n"
          ]
        }
      ],
      "source": [
        "!gdown --id 18yofdxO2BYBmlw8wmVHEwGFiALR2F4lC \n",
        "import pandas as pd\n",
        "dataset = pd.read_csv('housing_market_dataset.csv') "
      ]
    },
    {
      "cell_type": "markdown",
      "source": [
        "## Неграфический анализ"
      ],
      "metadata": {
        "id": "QFmeCWOQxVzH"
      }
    },
    {
      "cell_type": "code",
      "source": [
        "dataset['Класс жилья'].describe()"
      ],
      "metadata": {
        "colab": {
          "base_uri": "https://localhost:8080/"
        },
        "id": "e1qnULgjx09B",
        "outputId": "17bf6144-8559-48f0-bb14-e7451e30e2e2"
      },
      "execution_count": null,
      "outputs": [
        {
          "output_type": "execute_result",
          "data": {
            "text/plain": [
              "count             5812\n",
              "unique               4\n",
              "top       Бизнес класс\n",
              "freq              3415\n",
              "Name: Класс жилья, dtype: object"
            ]
          },
          "metadata": {},
          "execution_count": 4
        }
      ]
    },
    {
      "cell_type": "code",
      "source": [
        "dataset['Класс жилья'].unique()"
      ],
      "metadata": {
        "colab": {
          "base_uri": "https://localhost:8080/"
        },
        "id": "r6AYtO45y_jA",
        "outputId": "f7607bee-defa-4357-d8e8-2740e3feb4cc"
      },
      "execution_count": null,
      "outputs": [
        {
          "output_type": "execute_result",
          "data": {
            "text/plain": [
              "array([nan, 'Элит класс', 'Бизнес класс', 'Эконом класс', 'Комфорт класс'],\n",
              "      dtype=object)"
            ]
          },
          "metadata": {},
          "execution_count": 5
        }
      ]
    },
    {
      "cell_type": "code",
      "source": [
        "dataset['Класс жилья'].values "
      ],
      "metadata": {
        "colab": {
          "base_uri": "https://localhost:8080/"
        },
        "id": "NrJUTStfzJAw",
        "outputId": "ba15ab62-2b79-4de0-c94e-d252d24dc4bc"
      },
      "execution_count": null,
      "outputs": [
        {
          "output_type": "execute_result",
          "data": {
            "text/plain": [
              "array([nan, 'Элит класс', 'Бизнес класс', ..., 'Комфорт класс',\n",
              "       'Комфорт класс', 'Комфорт класс'], dtype=object)"
            ]
          },
          "metadata": {},
          "execution_count": 6
        }
      ]
    },
    {
      "cell_type": "code",
      "source": [
        "dataset['Класс жилья'].value_counts()"
      ],
      "metadata": {
        "colab": {
          "base_uri": "https://localhost:8080/"
        },
        "id": "vYARntqf1iyH",
        "outputId": "08b48ff9-5d33-4c37-da9b-a4e6f6c894ea"
      },
      "execution_count": null,
      "outputs": [
        {
          "output_type": "execute_result",
          "data": {
            "text/plain": [
              "Бизнес класс     3415\n",
              "Комфорт класс    1875\n",
              "Элит класс        345\n",
              "Эконом класс      177\n",
              "Name: Класс жилья, dtype: int64"
            ]
          },
          "metadata": {},
          "execution_count": 7
        }
      ]
    },
    {
      "cell_type": "markdown",
      "source": [
        "## Графический анализ - круговая диаграмма - pie chart"
      ],
      "metadata": {
        "id": "kMdtRKPtAxAs"
      }
    },
    {
      "cell_type": "code",
      "source": [
        "import matplotlib.pyplot as plt"
      ],
      "metadata": {
        "id": "XXkiGhjZBdAc"
      },
      "execution_count": null,
      "outputs": []
    },
    {
      "cell_type": "code",
      "source": [
        "class_counts = dataset['Класс жилья'].value_counts()"
      ],
      "metadata": {
        "id": "YeApaTsJB0Xz"
      },
      "execution_count": null,
      "outputs": []
    },
    {
      "cell_type": "code",
      "source": [
        "plt.pie(class_counts)\n",
        "plt.show()"
      ],
      "metadata": {
        "colab": {
          "base_uri": "https://localhost:8080/",
          "height": 248
        },
        "id": "kHuP0xNGBJNN",
        "outputId": "a1f7fce5-e28a-41e2-b3de-ba134e4cd33a"
      },
      "execution_count": null,
      "outputs": [
        {
          "output_type": "display_data",
          "data": {
            "text/plain": [
              "<Figure size 432x288 with 1 Axes>"
            ],
            "image/png": "[encoded data removed]"
          },
          "metadata": {}
        }
      ]
    },
    {
      "cell_type": "code",
      "source": [
        "class_counts"
      ],
      "metadata": {
        "colab": {
          "base_uri": "https://localhost:8080/"
        },
        "id": "zrgO38xrCp3s",
        "outputId": "c40ed570-d5b0-4171-d561-26747918d510"
      },
      "execution_count": null,
      "outputs": [
        {
          "output_type": "execute_result",
          "data": {
            "text/plain": [
              "Бизнес класс     3415\n",
              "Комфорт класс    1875\n",
              "Элит класс        345\n",
              "Эконом класс      177\n",
              "Name: Класс жилья, dtype: int64"
            ]
          },
          "metadata": {},
          "execution_count": 11
        }
      ]
    },
    {
      "cell_type": "code",
      "source": [
        "class_counts.values"
      ],
      "metadata": {
        "colab": {
          "base_uri": "https://localhost:8080/"
        },
        "id": "Od4c7UsACz-c",
        "outputId": "bd123543-1c6a-4b25-8a9d-1610db86698f"
      },
      "execution_count": null,
      "outputs": [
        {
          "output_type": "execute_result",
          "data": {
            "text/plain": [
              "array([3415, 1875,  345,  177])"
            ]
          },
          "metadata": {},
          "execution_count": 12
        }
      ]
    },
    {
      "cell_type": "code",
      "source": [
        "class_counts.index"
      ],
      "metadata": {
        "colab": {
          "base_uri": "https://localhost:8080/"
        },
        "id": "B5oHWj9MDMSt",
        "outputId": "ea0fe962-2f32-4f5c-bbdd-cd11dcc9213e"
      },
      "execution_count": null,
      "outputs": [
        {
          "output_type": "execute_result",
          "data": {
            "text/plain": [
              "Index(['Бизнес класс', 'Комфорт класс', 'Элит класс', 'Эконом класс'], dtype='object')"
            ]
          },
          "metadata": {},
          "execution_count": 13
        }
      ]
    },
    {
      "cell_type": "code",
      "source": [
        "plt.pie(class_counts.values, labels = class_counts.index)\n",
        "plt.show()"
      ],
      "metadata": {
        "colab": {
          "base_uri": "https://localhost:8080/",
          "height": 248
        },
        "id": "eWZ42c90DVxn",
        "outputId": "dbf7217c-8ad8-4229-8bd6-f1bf22d8a823"
      },
      "execution_count": null,
      "outputs": [
        {
          "output_type": "display_data",
          "data": {
            "text/plain": [
              "<Figure size 432x288 with 1 Axes>"
            ],
            "image/png": "[encoded data removed]"
          },
          "metadata": {}
        }
      ]
    },
    {
      "cell_type": "code",
      "source": [
        "plt.pie(class_counts.values, labels = class_counts.index)\n",
        "plt.title('Круговая диаграмма распределения классов квартир')\n",
        "plt.show()"
      ],
      "metadata": {
        "colab": {
          "base_uri": "https://localhost:8080/",
          "height": 264
        },
        "id": "hwoXZzs0DtaE",
        "outputId": "c1e0d329-11e2-4c4f-ed3c-661f6e439abb"
      },
      "execution_count": null,
      "outputs": [
        {
          "output_type": "display_data",
          "data": {
            "text/plain": [
              "<Figure size 432x288 with 1 Axes>"
            ],
            "image/png": "[encoded data removed]"
          },
          "metadata": {}
        }
      ]
    },
    {
      "cell_type": "markdown",
      "source": [
        "## Графический анализ - столбцовая диаграмма - bar chart "
      ],
      "metadata": {
        "id": "ROf3a-RbEYBT"
      }
    },
    {
      "cell_type": "code",
      "source": [
        "type_counts = dataset['Тип здания'].value_counts()"
      ],
      "metadata": {
        "id": "Nj1joZ6cFDOL"
      },
      "execution_count": null,
      "outputs": []
    },
    {
      "cell_type": "code",
      "source": [
        "plt.bar(type_counts.index, type_counts.values)\n",
        "plt.show()"
      ],
      "metadata": {
        "colab": {
          "base_uri": "https://localhost:8080/",
          "height": 265
        },
        "id": "na6Zc8KDErjj",
        "outputId": "24185cb1-1784-4e96-fc0b-36424d2089db"
      },
      "execution_count": null,
      "outputs": [
        {
          "output_type": "display_data",
          "data": {
            "text/plain": [
              "<Figure size 432x288 with 1 Axes>"
            ],
            "image/png": "[encoded data removed]"
          },
          "metadata": {
            "needs_background": "light"
          }
        }
      ]
    },
    {
      "cell_type": "code",
      "source": [
        "plt.barh(type_counts.index, type_counts.values)\n",
        "plt.title('Столбцовая диаграмма распределения типов здания')\n",
        "plt.show()"
      ],
      "metadata": {
        "colab": {
          "base_uri": "https://localhost:8080/",
          "height": 281
        },
        "id": "LQFSyhmrFUID",
        "outputId": "6ff15405-0773-4841-f24e-da661d0f8e17"
      },
      "execution_count": null,
      "outputs": [
        {
          "output_type": "display_data",
          "data": {
            "text/plain": [
              "<Figure size 432x288 with 1 Axes>"
            ],
            "image/png": "[encoded data removed]"
          },
          "metadata": {
            "needs_background": "light"
          }
        }
      ]
    },
    {
      "cell_type": "code",
      "source": [
        "plt.pie(type_counts.values, labels = type_counts.index)\n",
        "plt.show()"
      ],
      "metadata": {
        "colab": {
          "base_uri": "https://localhost:8080/",
          "height": 248
        },
        "id": "mdiinXHcFrgT",
        "outputId": "f8353880-0b07-4966-e88e-a397174f3451"
      },
      "execution_count": null,
      "outputs": [
        {
          "output_type": "display_data",
          "data": {
            "text/plain": [
              "<Figure size 432x288 with 1 Axes>"
            ],
            "image/png": "[encoded data removed]"
          },
          "metadata": {}
        }
      ]
    },
    {
      "cell_type": "markdown",
      "source": [
        " ## Шаблон анализа"
      ],
      "metadata": {
        "id": "AjIKYunCIBzq"
      }
    },
    {
      "cell_type": "code",
      "source": [
        "# Неграфический способ проанализировать колонку\n",
        "dataset['Класс жилья'].describe()"
      ],
      "metadata": {
        "colab": {
          "base_uri": "https://localhost:8080/"
        },
        "id": "sZTlfj4WMHX0",
        "outputId": "43e7f177-7f0e-4276-fa18-54c8b80d558a"
      },
      "execution_count": null,
      "outputs": [
        {
          "output_type": "execute_result",
          "data": {
            "text/plain": [
              "count             5812\n",
              "unique               4\n",
              "top       Бизнес класс\n",
              "freq              3415\n",
              "Name: Класс жилья, dtype: object"
            ]
          },
          "metadata": {},
          "execution_count": 20
        }
      ]
    },
    {
      "cell_type": "code",
      "source": [
        "# Более полный неграфический способ\n",
        "class_counts = dataset['Класс жилья'].value_counts()\n",
        "class_counts"
      ],
      "metadata": {
        "colab": {
          "base_uri": "https://localhost:8080/"
        },
        "id": "b9mOkQRRMVo-",
        "outputId": "323280f4-e73b-4805-db4a-e8309b248731"
      },
      "execution_count": null,
      "outputs": [
        {
          "output_type": "execute_result",
          "data": {
            "text/plain": [
              "Бизнес класс     3415\n",
              "Комфорт класс    1875\n",
              "Элит класс        345\n",
              "Эконом класс      177\n",
              "Name: Класс жилья, dtype: int64"
            ]
          },
          "metadata": {},
          "execution_count": 21
        }
      ]
    },
    {
      "cell_type": "code",
      "source": [
        "# Круговая диаграмма\n",
        "plt.pie(class_counts.values, labels = class_counts.index)\n",
        "plt.title('Круговая диаграмма распределения классов квартир') # Добавление подписи к графику\n",
        "plt.show()"
      ],
      "metadata": {
        "id": "HFdxfHk3MfQW"
      },
      "execution_count": null,
      "outputs": []
    },
    {
      "cell_type": "code",
      "source": [
        "# Стобцевая диаграмма\n",
        "type_counts = dataset['Тип здания'].value_counts()\n",
        "plt.barh(type_counts.index, type_counts.values)\n",
        "plt.title('Столбцовая диаграмма распределения типов здания')\n",
        "plt.show()"
      ],
      "metadata": {
        "colab": {
          "base_uri": "https://localhost:8080/",
          "height": 281
        },
        "id": "_vpbSeRgMkwq",
        "outputId": "35101f5a-3034-4fa5-a6b2-4680707ac133"
      },
      "execution_count": null,
      "outputs": [
        {
          "output_type": "display_data",
          "data": {
            "text/plain": [
              "<Figure size 432x288 with 1 Axes>"
            ],
            "image/png": "[encoded data removed]"
          },
          "metadata": {
            "needs_background": "light"
          }
        }
      ]
    }
  ]
}
