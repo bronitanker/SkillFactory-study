{
  "nbformat": 4,
  "nbformat_minor": 0,
  "metadata": {
    "colab": {
      "name": "Копия блокнота \"Анализ числовых данных\"",
      "provenance": [],
      "collapsed_sections": [],
      "include_colab_link": true
    },
    "kernelspec": {
      "name": "python3",
      "display_name": "Python 3"
    },
    "language_info": {
      "name": "python"
    }
  },
  "cells": [
    {
      "cell_type": "markdown",
      "metadata": {
        "id": "view-in-github",
        "colab_type": "text"
      },
      "source": [
        "<a href=\"https://colab.research.google.com/github/bronitanker/SkillFactory-study/blob/main/%D0%9A%D0%BE%D0%BF%D0%B8%D1%8F_%D0%B1%D0%BB%D0%BE%D0%BA%D0%BD%D0%BE%D1%82%D0%B0_%22%D0%90%D0%BD%D0%B0%D0%BB%D0%B8%D0%B7_%D1%87%D0%B8%D1%81%D0%BB%D0%BE%D0%B2%D1%8B%D1%85_%D0%B4%D0%B0%D0%BD%D0%BD%D1%8B%D1%85%22.ipynb\" target=\"_parent\"><img src=\"https://colab.research.google.com/assets/colab-badge.svg\" alt=\"Open In Colab\"/></a>"
      ]
    },
    {
      "cell_type": "markdown",
      "source": [
        "# Анализ числовых данных"
      ],
      "metadata": {
        "id": "GUI3iu4U-hGZ"
      }
    },
    {
      "cell_type": "code",
      "execution_count": null,
      "metadata": {
        "id": "NomeMpJJ-b0W",
        "colab": {
          "base_uri": "https://localhost:8080/"
        },
        "outputId": "75f088ca-149d-4b0b-ef46-7347e2c5f28c"
      },
      "outputs": [
        {
          "output_type": "stream",
          "name": "stdout",
          "text": [
            "/usr/local/lib/python3.7/dist-packages/gdown/cli.py:131: FutureWarning: Option `--id` was deprecated in version 4.3.1 and will be removed in 5.0. You don't need to pass it anymore to use a file ID.\n",
            "  category=FutureWarning,\n",
            "Downloading...\n",
            "From: https://drive.google.com/uc?id=18yofdxO2BYBmlw8wmVHEwGFiALR2F4lC\n",
            "To: /content/housing_market_dataset.csv\n",
            "100% 29.3M/29.3M [00:00<00:00, 81.6MB/s]\n"
          ]
        }
      ],
      "source": [
        "!gdown --id 18yofdxO2BYBmlw8wmVHEwGFiALR2F4lC \n",
        "import pandas as pd\n",
        "dataset = pd.read_csv('housing_market_dataset.csv') "
      ]
    },
    {
      "cell_type": "markdown",
      "source": [
        "## Неграфический анализ"
      ],
      "metadata": {
        "id": "S435FMrE11T7"
      }
    },
    {
      "cell_type": "markdown",
      "source": [
        "\n",
        "![](https://miro.medium.com/max/1400/0*YwPNRwWwTfra-IzR)\n",
        " \n",
        "\n",
        "Особенности Series  \n",
        "*   В Series индексы привязаны к элементу и при сортировки связь сохраняется \n",
        "*   Индексы могут быть не только целыми числами, но также строками или датами, как в dict\n"
      ],
      "metadata": {
        "id": "1gOSLVNMTwDQ"
      }
    },
    {
      "cell_type": "markdown",
      "source": [
        "### Какой год построки максимальный и минимальный?"
      ],
      "metadata": {
        "id": "9_brvQJ5QiYz"
      }
    },
    {
      "cell_type": "code",
      "source": [
        "year_of_construction = dataset['Год постройки']"
      ],
      "metadata": {
        "id": "10vrAcQVeDzS"
      },
      "execution_count": null,
      "outputs": []
    },
    {
      "cell_type": "code",
      "source": [
        "max_value = year_of_construction.max()\n",
        "min_value = year_of_construction.min()\n",
        "print('Максимальный год постройки: ', max_value, 'Минимальный год постройки: ', min_value)"
      ],
      "metadata": {
        "id": "kUQ5zaBgiCEL",
        "colab": {
          "base_uri": "https://localhost:8080/"
        },
        "outputId": "8fd18f40-da44-4ab1-da77-aa842fd64a28"
      },
      "execution_count": null,
      "outputs": [
        {
          "output_type": "stream",
          "name": "stdout",
          "text": [
            "Максимальный год постройки:  2021.0 Минимальный год постройки:  1876.0\n"
          ]
        }
      ]
    },
    {
      "cell_type": "markdown",
      "source": [
        "### Какой год построки средний?"
      ],
      "metadata": {
        "id": "dNNLWpO9Qy0Y"
      }
    },
    {
      "cell_type": "code",
      "source": [
        "mean_value = year_of_construction.mean()\n",
        "print('Средний год постройки: ', mean_value)"
      ],
      "metadata": {
        "id": "GwMDerSqi8wp",
        "colab": {
          "base_uri": "https://localhost:8080/"
        },
        "outputId": "0e533b86-faaf-4edb-ea2f-66aede84fcba"
      },
      "execution_count": null,
      "outputs": [
        {
          "output_type": "stream",
          "name": "stdout",
          "text": [
            "Средний год постройки:  2001.1397864768683\n"
          ]
        }
      ]
    },
    {
      "cell_type": "markdown",
      "source": [
        "### Альтернативный способ - медиана\n",
        "Медиана — число, которое находится ровно в середине отсортированного массива значений"
      ],
      "metadata": {
        "id": "G6YlCXosQx4A"
      }
    },
    {
      "cell_type": "code",
      "source": [
        "[1900, 2022, 2022, 2021, 2019] # среднее = 1996.8, медиана = 2021"
      ],
      "metadata": {
        "id": "vF8a10WEjza4",
        "outputId": "abc577db-ce4f-4504-8d78-44fda7fffe92",
        "colab": {
          "base_uri": "https://localhost:8080/"
        }
      },
      "execution_count": null,
      "outputs": [
        {
          "output_type": "execute_result",
          "data": {
            "text/plain": [
              "[1900, 2022, 2022, 2021, 2019]"
            ]
          },
          "metadata": {},
          "execution_count": 5
        }
      ]
    },
    {
      "cell_type": "code",
      "source": [
        "median_value = year_of_construction.median()\n",
        "print('Медиана года постройки: ', median_value)"
      ],
      "metadata": {
        "id": "Yzm6D1EKjcDv",
        "colab": {
          "base_uri": "https://localhost:8080/"
        },
        "outputId": "49bbd0ea-f773-47b1-bf6e-da4e2d169022"
      },
      "execution_count": null,
      "outputs": [
        {
          "output_type": "stream",
          "name": "stdout",
          "text": [
            "Медиана года постройки:  2018.0\n"
          ]
        }
      ]
    },
    {
      "cell_type": "markdown",
      "source": [
        "### Процентили\n",
        "Процентиль — это определенная часть выборки данных, мера, в которой определенный процент всех значений в датасете равен этой мере или меньше ее.\n",
        "\n",
        "Другими словами - показатель того, какой процент значений находится ниже определенного уровня. \n",
        "Например, значение 10-го процентиля указывает, что 10% значений располагается ниже этого уровня."
      ],
      "metadata": {
        "id": "Vp-T8Xu5RD37"
      }
    },
    {
      "cell_type": "code",
      "source": [
        "percentile_10_value = year_of_construction.quantile(0.10)\n",
        "percentile_25_value = year_of_construction.quantile(0.25)\n",
        "percentile_50_value = year_of_construction.quantile(0.50)\n",
        "percentile_75_value = year_of_construction.quantile(0.75)\n",
        "percentile_90_value = year_of_construction.quantile(0.90)\n",
        "print('10-й процентиль года постройки: ', percentile_10_value)\n",
        "print('25-й процентиль года постройки: ', percentile_25_value)\n",
        "print('50-й процентиль года постройки: ', percentile_50_value)\n",
        "print('75-й процентиль года постройки: ', percentile_75_value)\n",
        "print('90-й процентиль года постройки: ', percentile_90_value)"
      ],
      "metadata": {
        "id": "P3nEKTl13jJT",
        "colab": {
          "base_uri": "https://localhost:8080/"
        },
        "outputId": "ea6e2db6-1749-4a34-d8fb-001e3973bcdb"
      },
      "execution_count": null,
      "outputs": [
        {
          "output_type": "stream",
          "name": "stdout",
          "text": [
            "10-й процентиль года постройки:  1962.0\n",
            "25-й процентиль года постройки:  1979.0\n",
            "50-й процентиль года постройки:  2018.0\n",
            "75-й процентиль года постройки:  2019.0\n",
            "90-й процентиль года постройки:  2020.0\n"
          ]
        }
      ]
    },
    {
      "cell_type": "markdown",
      "source": [
        "### Describe"
      ],
      "metadata": {
        "id": "jC7MIhozrv0a"
      }
    },
    {
      "cell_type": "code",
      "source": [
        "year_of_construction.describe()"
      ],
      "metadata": {
        "id": "MBPJyDPp2OhD",
        "colab": {
          "base_uri": "https://localhost:8080/"
        },
        "outputId": "43f7a996-79ba-4d6c-993e-0b39f4d8d508"
      },
      "execution_count": null,
      "outputs": [
        {
          "output_type": "execute_result",
          "data": {
            "text/plain": [
              "count    7025.000000\n",
              "mean     2001.139786\n",
              "std        25.060692\n",
              "min      1876.000000\n",
              "25%      1979.000000\n",
              "50%      2018.000000\n",
              "75%      2019.000000\n",
              "max      2021.000000\n",
              "Name: Год постройки, dtype: float64"
            ]
          },
          "metadata": {},
          "execution_count": 8
        }
      ]
    },
    {
      "cell_type": "code",
      "source": [
        "dataset.describe()"
      ],
      "metadata": {
        "id": "7nuh8cQa3xci",
        "colab": {
          "base_uri": "https://localhost:8080/",
          "height": 300
        },
        "outputId": "e50d1630-b31f-45ad-f191-e992c7b1ae29"
      },
      "execution_count": null,
      "outputs": [
        {
          "output_type": "execute_result",
          "data": {
            "text/plain": [
              "       Год постройки  Кол-во просмотров  Кол-во просмотров сегодня  \\\n",
              "count    7025.000000       13001.000000                7224.000000   \n",
              "mean     2001.139786          94.524190                   1.844546   \n",
              "std        25.060692         199.666472                   2.712400   \n",
              "min      1876.000000           1.000000                   1.000000   \n",
              "25%      1979.000000          35.000000                   1.000000   \n",
              "50%      2018.000000          65.000000                   1.000000   \n",
              "75%      2019.000000          97.000000                   2.000000   \n",
              "max      2021.000000        5739.000000                  38.000000   \n",
              "\n",
              "       Количество этажей  Количество комнат     Этажность   Номер этажа  \n",
              "count       12510.000000       13001.000000  13001.000000  13001.000000  \n",
              "mean           17.488649           1.974848     17.444043      8.624798  \n",
              "std            19.682982           0.912510      9.728213      6.693463  \n",
              "min             1.000000           1.000000      1.000000      1.000000  \n",
              "25%            12.000000           1.000000     12.000000      3.000000  \n",
              "50%            16.000000           2.000000     16.000000      7.000000  \n",
              "75%            22.000000           3.000000     22.000000     12.000000  \n",
              "max          1960.000000          25.000000    100.000000     95.000000  "
            ],
            "text/html": [
              "\n",
              "  <div id=\"df-d748eaba-a4d7-413a-9216-a110775e1880\">\n",
              "    <div class=\"colab-df-container\">\n",
              "      <div>\n",
              "<style scoped>\n",
              "    .dataframe tbody tr th:only-of-type {\n",
              "        vertical-align: middle;\n",
              "    }\n",
              "\n",
              "    .dataframe tbody tr th {\n",
              "        vertical-align: top;\n",
              "    }\n",
              "\n",
              "    .dataframe thead th {\n",
              "        text-align: right;\n",
              "    }\n",
              "</style>\n",
              "<table border=\"1\" class=\"dataframe\">\n",
              "  <thead>\n",
              "    <tr style=\"text-align: right;\">\n",
              "      <th></th>\n",
              "      <th>Год постройки</th>\n",
              "      <th>Кол-во просмотров</th>\n",
              "      <th>Кол-во просмотров сегодня</th>\n",
              "      <th>Количество этажей</th>\n",
              "      <th>Количество комнат</th>\n",
              "      <th>Этажность</th>\n",
              "      <th>Номер этажа</th>\n",
              "    </tr>\n",
              "  </thead>\n",
              "  <tbody>\n",
              "    <tr>\n",
              "      <th>count</th>\n",
              "      <td>7025.000000</td>\n",
              "      <td>13001.000000</td>\n",
              "      <td>7224.000000</td>\n",
              "      <td>12510.000000</td>\n",
              "      <td>13001.000000</td>\n",
              "      <td>13001.000000</td>\n",
              "      <td>13001.000000</td>\n",
              "    </tr>\n",
              "    <tr>\n",
              "      <th>mean</th>\n",
              "      <td>2001.139786</td>\n",
              "      <td>94.524190</td>\n",
              "      <td>1.844546</td>\n",
              "      <td>17.488649</td>\n",
              "      <td>1.974848</td>\n",
              "      <td>17.444043</td>\n",
              "      <td>8.624798</td>\n",
              "    </tr>\n",
              "    <tr>\n",
              "      <th>std</th>\n",
              "      <td>25.060692</td>\n",
              "      <td>199.666472</td>\n",
              "      <td>2.712400</td>\n",
              "      <td>19.682982</td>\n",
              "      <td>0.912510</td>\n",
              "      <td>9.728213</td>\n",
              "      <td>6.693463</td>\n",
              "    </tr>\n",
              "    <tr>\n",
              "      <th>min</th>\n",
              "      <td>1876.000000</td>\n",
              "      <td>1.000000</td>\n",
              "      <td>1.000000</td>\n",
              "      <td>1.000000</td>\n",
              "      <td>1.000000</td>\n",
              "      <td>1.000000</td>\n",
              "      <td>1.000000</td>\n",
              "    </tr>\n",
              "    <tr>\n",
              "      <th>25%</th>\n",
              "      <td>1979.000000</td>\n",
              "      <td>35.000000</td>\n",
              "      <td>1.000000</td>\n",
              "      <td>12.000000</td>\n",
              "      <td>1.000000</td>\n",
              "      <td>12.000000</td>\n",
              "      <td>3.000000</td>\n",
              "    </tr>\n",
              "    <tr>\n",
              "      <th>50%</th>\n",
              "      <td>2018.000000</td>\n",
              "      <td>65.000000</td>\n",
              "      <td>1.000000</td>\n",
              "      <td>16.000000</td>\n",
              "      <td>2.000000</td>\n",
              "      <td>16.000000</td>\n",
              "      <td>7.000000</td>\n",
              "    </tr>\n",
              "    <tr>\n",
              "      <th>75%</th>\n",
              "      <td>2019.000000</td>\n",
              "      <td>97.000000</td>\n",
              "      <td>2.000000</td>\n",
              "      <td>22.000000</td>\n",
              "      <td>3.000000</td>\n",
              "      <td>22.000000</td>\n",
              "      <td>12.000000</td>\n",
              "    </tr>\n",
              "    <tr>\n",
              "      <th>max</th>\n",
              "      <td>2021.000000</td>\n",
              "      <td>5739.000000</td>\n",
              "      <td>38.000000</td>\n",
              "      <td>1960.000000</td>\n",
              "      <td>25.000000</td>\n",
              "      <td>100.000000</td>\n",
              "      <td>95.000000</td>\n",
              "    </tr>\n",
              "  </tbody>\n",
              "</table>\n",
              "</div>\n",
              "      <button class=\"colab-df-convert\" onclick=\"convertToInteractive('df-d748eaba-a4d7-413a-9216-a110775e1880')\"\n",
              "              title=\"Convert this dataframe to an interactive table.\"\n",
              "              style=\"display:none;\">\n",
              "        \n",
              "  <svg xmlns=\"http://www.w3.org/2000/svg\" height=\"24px\"viewBox=\"0 0 24 24\"\n",
              "       width=\"24px\">\n",
              "    <path d=\"M0 0h24v24H0V0z\" fill=\"none\"/>\n",
              "    <path d=\"M18.56 5.44l.94 2.06.94-2.06 2.06-.94-2.06-.94-.94-2.06-.94 2.06-2.06.94zm-11 1L8.5 8.5l.94-2.06 2.06-.94-2.06-.94L8.5 2.5l-.94 2.06-2.06.94zm10 10l.94 2.06.94-2.06 2.06-.94-2.06-.94-.94-2.06-.94 2.06-2.06.94z\"/><path d=\"M17.41 7.96l-1.37-1.37c-.4-.4-.92-.59-1.43-.59-.52 0-1.04.2-1.43.59L10.3 9.45l-7.72 7.72c-.78.78-.78 2.05 0 2.83L4 21.41c.39.39.9.59 1.41.59.51 0 1.02-.2 1.41-.59l7.78-7.78 2.81-2.81c.8-.78.8-2.07 0-2.86zM5.41 20L4 18.59l7.72-7.72 1.47 1.35L5.41 20z\"/>\n",
              "  </svg>\n",
              "      </button>\n",
              "      \n",
              "  <style>\n",
              "    .colab-df-container {\n",
              "      display:flex;\n",
              "      flex-wrap:wrap;\n",
              "      gap: 12px;\n",
              "    }\n",
              "\n",
              "    .colab-df-convert {\n",
              "      background-color: #E8F0FE;\n",
              "      border: none;\n",
              "      border-radius: 50%;\n",
              "      cursor: pointer;\n",
              "      display: none;\n",
              "      fill: #1967D2;\n",
              "      height: 32px;\n",
              "      padding: 0 0 0 0;\n",
              "      width: 32px;\n",
              "    }\n",
              "\n",
              "    .colab-df-convert:hover {\n",
              "      background-color: #E2EBFA;\n",
              "      box-shadow: 0px 1px 2px rgba(60, 64, 67, 0.3), 0px 1px 3px 1px rgba(60, 64, 67, 0.15);\n",
              "      fill: #174EA6;\n",
              "    }\n",
              "\n",
              "    [theme=dark] .colab-df-convert {\n",
              "      background-color: #3B4455;\n",
              "      fill: #D2E3FC;\n",
              "    }\n",
              "\n",
              "    [theme=dark] .colab-df-convert:hover {\n",
              "      background-color: #434B5C;\n",
              "      box-shadow: 0px 1px 3px 1px rgba(0, 0, 0, 0.15);\n",
              "      filter: drop-shadow(0px 1px 2px rgba(0, 0, 0, 0.3));\n",
              "      fill: #FFFFFF;\n",
              "    }\n",
              "  </style>\n",
              "\n",
              "      <script>\n",
              "        const buttonEl =\n",
              "          document.querySelector('#df-d748eaba-a4d7-413a-9216-a110775e1880 button.colab-df-convert');\n",
              "        buttonEl.style.display =\n",
              "          google.colab.kernel.accessAllowed ? 'block' : 'none';\n",
              "\n",
              "        async function convertToInteractive(key) {\n",
              "          const element = document.querySelector('#df-d748eaba-a4d7-413a-9216-a110775e1880');\n",
              "          const dataTable =\n",
              "            await google.colab.kernel.invokeFunction('convertToInteractive',\n",
              "                                                     [key], {});\n",
              "          if (!dataTable) return;\n",
              "\n",
              "          const docLinkHtml = 'Like what you see? Visit the ' +\n",
              "            '<a target=\"_blank\" href=https://colab.research.google.com/notebooks/data_table.ipynb>data table notebook</a>'\n",
              "            + ' to learn more about interactive tables.';\n",
              "          element.innerHTML = '';\n",
              "          dataTable['output_type'] = 'display_data';\n",
              "          await google.colab.output.renderOutput(dataTable, element);\n",
              "          const docLink = document.createElement('div');\n",
              "          docLink.innerHTML = docLinkHtml;\n",
              "          element.appendChild(docLink);\n",
              "        }\n",
              "      </script>\n",
              "    </div>\n",
              "  </div>\n",
              "  "
            ]
          },
          "metadata": {},
          "execution_count": 9
        }
      ]
    },
    {
      "cell_type": "markdown",
      "source": [
        " ## Шаблон анализа"
      ],
      "metadata": {
        "id": "tw6Ei27Rtbl5"
      }
    },
    {
      "cell_type": "code",
      "source": [
        "# Создание переменной с Series\n",
        "year_of_construction = dataset['Год постройки']"
      ],
      "metadata": {
        "id": "YKFVdPRb1J1n"
      },
      "execution_count": null,
      "outputs": []
    },
    {
      "cell_type": "code",
      "source": [
        "# Расчет минимального и максимального значения Series\n",
        "max_value = year_of_construction.max()\n",
        "min_value = year_of_construction.min()\n",
        "print('Максимальный год постройки: ', max_value, 'Минимальный год постройки: ', min_value)"
      ],
      "metadata": {
        "id": "nQvMxTdztcKz",
        "outputId": "62761422-a82a-4456-ec0a-7dafdfc70b6f",
        "colab": {
          "base_uri": "https://localhost:8080/"
        }
      },
      "execution_count": null,
      "outputs": [
        {
          "output_type": "stream",
          "name": "stdout",
          "text": [
            "Максимальный год постройки:  2021.0 Минимальный год постройки:  1876.0\n"
          ]
        }
      ]
    },
    {
      "cell_type": "code",
      "source": [
        "# Расчет среднего значения Series\n",
        "mean_value = year_of_construction.mean()\n",
        "print('Средний год постройки: ', mean_value)"
      ],
      "metadata": {
        "id": "nHxv2efkzNtm",
        "outputId": "74576415-3f4a-45b3-cf7e-1ab795c9c927",
        "colab": {
          "base_uri": "https://localhost:8080/"
        }
      },
      "execution_count": null,
      "outputs": [
        {
          "output_type": "stream",
          "name": "stdout",
          "text": [
            "Средний год постройки:  2001.1397864768683\n"
          ]
        }
      ]
    },
    {
      "cell_type": "code",
      "source": [
        "# Расчет медианы Series\n",
        "median_value = year_of_construction.median()\n",
        "print('Медиана года постройки: ', median_value)"
      ],
      "metadata": {
        "id": "_zcDBlTdzOmn",
        "outputId": "f36770d0-df9c-42e0-dd5d-6e10b1e061d4",
        "colab": {
          "base_uri": "https://localhost:8080/"
        }
      },
      "execution_count": null,
      "outputs": [
        {
          "output_type": "stream",
          "name": "stdout",
          "text": [
            "Медиана года постройки:  2018.0\n"
          ]
        }
      ]
    },
    {
      "cell_type": "code",
      "source": [
        "# Расчет 10-го и 25-го процентилей Series\n",
        "percentile_10_value = year_of_construction.quantile(0.10)\n",
        "percentile_25_value = year_of_construction.quantile(0.25)\n",
        "print('10-й процентиль года постройки: ', percentile_10_value)\n",
        "print('25-й процентиль года постройки: ', percentile_25_value)"
      ],
      "metadata": {
        "id": "C8nqpq4b0x2n",
        "outputId": "86dff692-ecb1-4009-9d31-13074c41ff56",
        "colab": {
          "base_uri": "https://localhost:8080/"
        }
      },
      "execution_count": null,
      "outputs": [
        {
          "output_type": "stream",
          "name": "stdout",
          "text": [
            "10-й процентиль года постройки:  1962.0\n",
            "25-й процентиль года постройки:  1979.0\n"
          ]
        }
      ]
    },
    {
      "cell_type": "code",
      "source": [
        "# Для расчета всех основных статистических показателей сразу\n",
        "year_of_construction.describe()"
      ],
      "metadata": {
        "id": "U4GY3Nzh1BrO",
        "outputId": "1fb4dc98-32b3-4f19-f420-5ae3379980bb",
        "colab": {
          "base_uri": "https://localhost:8080/"
        }
      },
      "execution_count": null,
      "outputs": [
        {
          "output_type": "execute_result",
          "data": {
            "text/plain": [
              "count    7025.000000\n",
              "mean     2001.139786\n",
              "std        25.060692\n",
              "min      1876.000000\n",
              "25%      1979.000000\n",
              "50%      2018.000000\n",
              "75%      2019.000000\n",
              "max      2021.000000\n",
              "Name: Год постройки, dtype: float64"
            ]
          },
          "metadata": {},
          "execution_count": 16
        }
      ]
    },
    {
      "cell_type": "markdown",
      "source": [
        "## Графический анализ ящик с усами - boxplot "
      ],
      "metadata": {
        "id": "DSilx77a6r8x"
      }
    },
    {
      "cell_type": "code",
      "source": [
        "import matplotlib.pyplot as plt"
      ],
      "metadata": {
        "id": "lRMXtrGhcUtb"
      },
      "execution_count": null,
      "outputs": []
    },
    {
      "cell_type": "code",
      "source": [
        "floor_number = dataset['Номер этажа']"
      ],
      "metadata": {
        "id": "Q3CUsRmvyLF_"
      },
      "execution_count": null,
      "outputs": []
    },
    {
      "cell_type": "code",
      "source": [
        "plt.boxplot(floor_number)\n",
        "plt.show()"
      ],
      "metadata": {
        "id": "OfSuAEvfoDIm",
        "outputId": "ae35fc38-580d-4cce-f72c-c4a7e5002304",
        "colab": {
          "base_uri": "https://localhost:8080/",
          "height": 265
        }
      },
      "execution_count": null,
      "outputs": [
        {
          "output_type": "display_data",
          "data": {
            "text/plain": [
              "<Figure size 432x288 with 1 Axes>"
            ],
            "image/png": "[encoded data removed]"
          },
          "metadata": {
            "needs_background": "light"
          }
        }
      ]
    },
    {
      "cell_type": "code",
      "source": [
        "year_of_construction = dataset['Год постройки']\n",
        "plt.boxplot(year_of_construction)\n",
        "plt.show()"
      ],
      "metadata": {
        "id": "YFptSEsO47xO",
        "outputId": "a2bd9e28-09be-4b8b-d1ad-d1747bd4313e",
        "colab": {
          "base_uri": "https://localhost:8080/",
          "height": 265
        }
      },
      "execution_count": null,
      "outputs": [
        {
          "output_type": "display_data",
          "data": {
            "text/plain": [
              "<Figure size 432x288 with 1 Axes>"
            ],
            "image/png": "[encoded data removed]"
          },
          "metadata": {
            "needs_background": "light"
          }
        }
      ]
    },
    {
      "cell_type": "code",
      "source": [
        "year_of_construction_without_na = year_of_construction.dropna()\n",
        "year_of_construction_without_na"
      ],
      "metadata": {
        "id": "Q9zOv-24g3Zr",
        "outputId": "1e9ada0d-e018-4000-8bee-326aa933d4cd",
        "colab": {
          "base_uri": "https://localhost:8080/"
        }
      },
      "execution_count": null,
      "outputs": [
        {
          "output_type": "execute_result",
          "data": {
            "text/plain": [
              "0        1967.0\n",
              "1        2020.0\n",
              "2        2018.0\n",
              "3        2019.0\n",
              "4        2017.0\n",
              "          ...  \n",
              "12996    2019.0\n",
              "12997    2019.0\n",
              "12998    2019.0\n",
              "12999    2019.0\n",
              "13000    2019.0\n",
              "Name: Год постройки, Length: 7025, dtype: float64"
            ]
          },
          "metadata": {},
          "execution_count": 20
        }
      ]
    },
    {
      "cell_type": "code",
      "source": [
        "plt.boxplot(year_of_construction_without_na)\n",
        "plt.show()"
      ],
      "metadata": {
        "id": "mCOSMuunf7oQ",
        "outputId": "dc3d4892-301d-4a57-d8a7-3e389ffb3989",
        "colab": {
          "base_uri": "https://localhost:8080/",
          "height": 265
        }
      },
      "execution_count": null,
      "outputs": [
        {
          "output_type": "display_data",
          "data": {
            "text/plain": [
              "<Figure size 432x288 with 1 Axes>"
            ],
            "image/png": "[encoded data removed]"
          },
          "metadata": {
            "needs_background": "light"
          }
        }
      ]
    },
    {
      "cell_type": "markdown",
      "source": [
        "## Графический анализ - Гистограмма "
      ],
      "metadata": {
        "id": "tq5fyxCcrpp2"
      }
    },
    {
      "cell_type": "code",
      "source": [
        "plt.hist(year_of_construction)\n",
        "plt.show()"
      ],
      "metadata": {
        "id": "6BoZBC7XO8pk",
        "outputId": "80f92436-254c-485d-bb66-ae7a8766c887",
        "colab": {
          "base_uri": "https://localhost:8080/",
          "height": 265
        }
      },
      "execution_count": null,
      "outputs": [
        {
          "output_type": "display_data",
          "data": {
            "text/plain": [
              "<Figure size 432x288 with 1 Axes>"
            ],
            "image/png": "[encoded data removed]"
          },
          "metadata": {
            "needs_background": "light"
          }
        }
      ]
    },
    {
      "cell_type": "code",
      "source": [
        "plt.hist(dataset['Номер этажа'].dropna(), bins = 10)\n",
        "plt.show()"
      ],
      "metadata": {
        "id": "HjE4pv_GtRqR",
        "outputId": "3bb190c4-c1b1-4774-9f0c-9682b5d69574",
        "colab": {
          "base_uri": "https://localhost:8080/",
          "height": 265
        }
      },
      "execution_count": null,
      "outputs": [
        {
          "output_type": "display_data",
          "data": {
            "text/plain": [
              "<Figure size 432x288 with 1 Axes>"
            ],
            "image/png": "[encoded data removed]"
          },
          "metadata": {
            "needs_background": "light"
          }
        }
      ]
    },
    {
      "cell_type": "code",
      "source": [
        "plt.hist(dataset['Номер этажа'], bins = 100)\n",
        "plt.show()"
      ],
      "metadata": {
        "id": "IEt0V8Xxtk20",
        "outputId": "464bf707-8195-47d3-e0bb-7e094ab1c628",
        "colab": {
          "base_uri": "https://localhost:8080/",
          "height": 265
        }
      },
      "execution_count": null,
      "outputs": [
        {
          "output_type": "display_data",
          "data": {
            "text/plain": [
              "<Figure size 432x288 with 1 Axes>"
            ],
            "image/png": "[encoded data removed]"
          },
          "metadata": {
            "needs_background": "light"
          }
        }
      ]
    },
    {
      "cell_type": "code",
      "source": [
        "plt.hist(dataset['Номер этажа'], bins = 25)\n",
        "plt.show()"
      ],
      "metadata": {
        "id": "c6XzVifItrs8",
        "outputId": "89318ae4-5292-440e-a887-573457f6eaf2",
        "colab": {
          "base_uri": "https://localhost:8080/",
          "height": 265
        }
      },
      "execution_count": null,
      "outputs": [
        {
          "output_type": "display_data",
          "data": {
            "text/plain": [
              "<Figure size 432x288 with 1 Axes>"
            ],
            "image/png": "[encoded data removed]"
          },
          "metadata": {
            "needs_background": "light"
          }
        }
      ]
    },
    {
      "cell_type": "markdown",
      "source": [
        "## Выбросы и их обработка"
      ],
      "metadata": {
        "id": "rWde_Ud5sR5q"
      }
    },
    {
      "cell_type": "code",
      "source": [
        "plt.hist(dataset['Номер этажа'], bins = 50)\n",
        "plt.show()"
      ],
      "metadata": {
        "id": "50wov3h0lXMn",
        "outputId": "722130c9-0c62-48e1-8d30-f7ea0f237d4b",
        "colab": {
          "base_uri": "https://localhost:8080/",
          "height": 265
        }
      },
      "execution_count": null,
      "outputs": [
        {
          "output_type": "display_data",
          "data": {
            "text/plain": [
              "<Figure size 432x288 with 1 Axes>"
            ],
            "image/png": "[encoded data removed]"
          },
          "metadata": {
            "needs_background": "light"
          }
        }
      ]
    },
    {
      "cell_type": "code",
      "source": [
        "plt.hist(dataset['Номер этажа'], bins = 50)\n",
        "\n",
        "plt.xlim((None,55))\n",
        "plt.show()"
      ],
      "metadata": {
        "id": "AX0ohD0Pni5j",
        "outputId": "a23fcfa9-8760-44d5-dc99-1a4a1f686295",
        "colab": {
          "base_uri": "https://localhost:8080/",
          "height": 265
        }
      },
      "execution_count": null,
      "outputs": [
        {
          "output_type": "display_data",
          "data": {
            "text/plain": [
              "<Figure size 432x288 with 1 Axes>"
            ],
            "image/png": "[encoded data removed]"
          },
          "metadata": {
            "needs_background": "light"
          }
        }
      ]
    },
    {
      "cell_type": "markdown",
      "source": [
        "## Какие выводы мы можем сделать из проведенного анализа?"
      ],
      "metadata": {
        "id": "pED9W3rtqFGC"
      }
    },
    {
      "cell_type": "code",
      "source": [
        "plt.hist(dataset['Год постройки'].dropna(), bins = 50)\n",
        "plt.show()"
      ],
      "metadata": {
        "id": "P6PBOYH0Dmbz",
        "outputId": "eaa0c4e4-5f48-4c33-ebd6-a1a1dbc0cc87",
        "colab": {
          "base_uri": "https://localhost:8080/",
          "height": 265
        }
      },
      "execution_count": null,
      "outputs": [
        {
          "output_type": "display_data",
          "data": {
            "text/plain": [
              "<Figure size 432x288 with 1 Axes>"
            ],
            "image/png": "[encoded data removed]"
          },
          "metadata": {
            "needs_background": "light"
          }
        }
      ]
    },
    {
      "cell_type": "code",
      "source": [
        "plt.hist(dataset['Номер этажа'], bins = 50)\n",
        "\n",
        "plt.xlim((None,50))\n",
        "plt.show()"
      ],
      "metadata": {
        "id": "a6CaEr01DjPr",
        "outputId": "726585de-0fee-4919-bf37-e71dae0387e5",
        "colab": {
          "base_uri": "https://localhost:8080/",
          "height": 265
        }
      },
      "execution_count": null,
      "outputs": [
        {
          "output_type": "display_data",
          "data": {
            "text/plain": [
              "<Figure size 432x288 with 1 Axes>"
            ],
            "image/png": "[encoded data removed]"
          },
          "metadata": {
            "needs_background": "light"
          }
        }
      ]
    },
    {
      "cell_type": "markdown",
      "source": [
        " ## Шаблон анализа"
      ],
      "metadata": {
        "id": "Lf4yZ_Ycu8DY"
      }
    },
    {
      "cell_type": "code",
      "source": [
        "# Импортируем библиотеку визуализации\n",
        "import matplotlib.pyplot as plt"
      ],
      "metadata": {
        "id": "p2koBYbJBfU2"
      },
      "execution_count": null,
      "outputs": []
    },
    {
      "cell_type": "code",
      "source": [
        "# Для визуального представления данных в том числе медианы, квартилей и выбросов используем boxplot\n",
        "plt.boxplot(dataset['Номер этажа'])\n",
        "plt.show()"
      ],
      "metadata": {
        "id": "bnV_zS1pvzhA",
        "outputId": "a7d2e0b1-7140-49c8-e44e-16371b693379",
        "colab": {
          "base_uri": "https://localhost:8080/",
          "height": 265
        }
      },
      "execution_count": null,
      "outputs": [
        {
          "output_type": "display_data",
          "data": {
            "text/plain": [
              "<Figure size 432x288 with 1 Axes>"
            ],
            "image/png": "[encoded data removed]"
          },
          "metadata": {
            "needs_background": "light"
          }
        }
      ]
    },
    {
      "cell_type": "code",
      "source": [
        "# Альтернативный способ визуализировать колонку - гистограмма\n",
        "plt.hist(dataset['Номер этажа'], bins = 50)\n",
        "plt.xlim((None,55)) # для \"отрезания\" от графика неинформативного\n",
        "plt.show()"
      ],
      "metadata": {
        "id": "iAAWSii1v48Y",
        "outputId": "f671e64c-7bb8-4a83-e6a7-557f99a564cb",
        "colab": {
          "base_uri": "https://localhost:8080/",
          "height": 265
        }
      },
      "execution_count": null,
      "outputs": [
        {
          "output_type": "display_data",
          "data": {
            "text/plain": [
              "<Figure size 432x288 with 1 Axes>"
            ],
            "image/png": "[encoded data removed]"
          },
          "metadata": {
            "needs_background": "light"
          }
        }
      ]
    },
    {
      "cell_type": "markdown",
      "source": [
        "#### Как выбирать колонки для анализа?\n",
        "Для выбора используем одну из двух тактик: \n",
        "\n",
        "1) Пытаемся сформулировать вопросы для интересных вам колонок и ответить на них \n",
        "\n",
        "2) Анализироватьк каждую колонку по порядку"
      ],
      "metadata": {
        "id": "Yt5EsutdwZkw"
      }
    },
    {
      "cell_type": "code",
      "source": [
        "percentile_70_value = year_of_construction.quantile(0.70)\n",
        "print(percentile_70_value)"
      ],
      "metadata": {
        "id": "n12xOneCZgc-",
        "outputId": "ef091dac-9b5f-455f-896c-13e7ff2bc298",
        "colab": {
          "base_uri": "https://localhost:8080/"
        }
      },
      "execution_count": null,
      "outputs": [
        {
          "output_type": "stream",
          "name": "stdout",
          "text": [
            "2019.0\n"
          ]
        }
      ]
    },
    {
      "cell_type": "code",
      "source": [
        "rooms = dataset['Количество комнат']\n",
        "floors = dataset['Этажность']\n",
        "print(rooms, floors, sep='\\n')\n"
      ],
      "metadata": {
        "id": "yMJD6ZqSat0X"
      },
      "execution_count": null,
      "outputs": []
    },
    {
      "cell_type": "code",
      "source": [
        "plt.boxplot(floors)\n",
        "plt.show()"
      ],
      "metadata": {
        "id": "iQfZcrYbbOrB",
        "outputId": "7f5d2ccb-5c92-4b2e-f1a8-0cbe68e699f9",
        "colab": {
          "base_uri": "https://localhost:8080/",
          "height": 265
        }
      },
      "execution_count": null,
      "outputs": [
        {
          "output_type": "display_data",
          "data": {
            "text/plain": [
              "<Figure size 432x288 with 1 Axes>"
            ],
            "image/png": "[encoded data removed]"
          },
          "metadata": {
            "needs_background": "light"
          }
        }
      ]
    },
    {
      "cell_type": "code",
      "source": [
        "plt.hist(floors)\n",
        "plt.show()"
      ],
      "metadata": {
        "id": "hWyry6Tnbe5J",
        "outputId": "fc9d623e-3b14-4eb5-dbab-a5e44ef656ba",
        "colab": {
          "base_uri": "https://localhost:8080/",
          "height": 265
        }
      },
      "execution_count": null,
      "outputs": [
        {
          "output_type": "display_data",
          "data": {
            "text/plain": [
              "<Figure size 432x288 with 1 Axes>"
            ],
            "image/png": "[encoded data removed]"
          },
          "metadata": {
            "needs_background": "light"
          }
        }
      ]
    },
    {
      "cell_type": "code",
      "source": [
        "years_constrictions = dataset['Год постройки']\n",
        "years_constructions.dropna()"
      ],
      "metadata": {
        "id": "tCwgu36zbjRm",
        "outputId": "d7f93897-2f89-4f89-f1c9-58cef8c7ac9c",
        "colab": {
          "base_uri": "https://localhost:8080/",
          "height": 183
        }
      },
      "execution_count": null,
      "outputs": [
        {
          "output_type": "error",
          "ename": "NameError",
          "evalue": "ignored",
          "traceback": [
            "\u001b[0;31m---------------------------------------------------------------------------\u001b[0m",
            "\u001b[0;31mNameError\u001b[0m                                 Traceback (most recent call last)",
            "\u001b[0;32m<ipython-input-41-8b3bfe461210>\u001b[0m in \u001b[0;36m<module>\u001b[0;34m()\u001b[0m\n\u001b[1;32m      1\u001b[0m \u001b[0myears_constrictions\u001b[0m \u001b[0;34m=\u001b[0m \u001b[0mdataset\u001b[0m\u001b[0;34m[\u001b[0m\u001b[0;34m'Год постройки'\u001b[0m\u001b[0;34m]\u001b[0m\u001b[0;34m\u001b[0m\u001b[0;34m\u001b[0m\u001b[0m\n\u001b[0;32m----> 2\u001b[0;31m \u001b[0myears_constructions\u001b[0m\u001b[0;34m.\u001b[0m\u001b[0mdropna\u001b[0m\u001b[0;34m(\u001b[0m\u001b[0;34m)\u001b[0m\u001b[0;34m\u001b[0m\u001b[0;34m\u001b[0m\u001b[0m\n\u001b[0m",
            "\u001b[0;31mNameError\u001b[0m: name 'years_constructions' is not defined"
          ]
        }
      ]
    },
    {
      "cell_type": "code",
      "source": [
        ""
      ],
      "metadata": {
        "id": "P2BuMikVdV89"
      },
      "execution_count": null,
      "outputs": []
    }
  ]
}
